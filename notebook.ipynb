{
 "cells": [
  {
   "cell_type": "markdown",
   "id": "be822fc5",
   "metadata": {},
   "source": [
    "# 約維安計畫：操作基本資料單位「向量」\n",
    "\n",
    "> 第二十六週\n",
    "\n",
    "[數據交點](https://www.datainpoint.com) | 郭耀仁 <yaojenkuo@datainpoint.com>\n",
    "\n",
    "![](https://media.giphy.com/media/qehxCEZdmuQUEg3fTv/giphy.gif)\n",
    "\n",
    "來源：<https://media.giphy.com/media/qehxCEZdmuQUEg3fTv/giphy.gif>\n",
    "\n",
    "## 向量特性與操作方式\n",
    "\n",
    "我們在[約維安計畫：建立基本資料單位「向量」](https://datainpoint.substack.com/p/week-twenty-five-creating-vectors)暸解了如何建立不同類型的向量，包含有：數值向量（`numeric`）、整數向量（`integer`）、文字向量（`characte`）、邏輯向量（`logical`）、日期向量（`Date`）、日期時間向量（`POSIXct`）與未定義值向量（`NA`/`NULL`/`NaN`/`-Inf`/`Inf`）。向量有許多的特性與操作方式值得我們留意及學習，包含有向量是單一類型的、向量可以判斷和轉換類型以及向量元素的讀取、更新和刪除等操作。\n",
    "\n",
    "## 向量是單一類型的\n",
    "\n",
    "向量只能被宣告為單一類型，舉例來說，如果我們使用 `c()` 函數將不同類型的向量合併，R 語言會依照向上轉型（Upcasting）規則，自動並且隱性地用其中一個更精確的類型去記錄合併後的向量類型。例如將邏輯向量與整數向量合併，會自動獲得整數向量的結果（因為邏輯 `FALSE` 與 `TRUE` 能夠分別用整數 0 與 1 包含）；或者將整數向量與數值向量合併，會自動獲得數值向量的結果（因為整數能夠用浮點數包含）。"
   ]
  },
  {
   "cell_type": "code",
   "execution_count": 1,
   "id": "151f0341",
   "metadata": {},
   "outputs": [
    {
     "name": "stdout",
     "output_type": "stream",
     "text": [
      "[1] \"integer\"\n",
      "[1] \"numeric\"\n"
     ]
    }
   ],
   "source": [
    "favorite_integers <- c(FALSE, TRUE, 7L, 24L, 25L)\n",
    "favorite_numbers <- c(7L, 24.0, 25.0)\n",
    "print(class(favorite_integers))\n",
    "print(class(favorite_numbers))"
   ]
  },
  {
   "cell_type": "markdown",
   "id": "d9afd838",
   "metadata": {},
   "source": [
    "## 向量可以判斷類型\n",
    "\n",
    "R 語言針對向量類型的判斷除了使用 `class()` 與 `typeof()` 函數能夠直截了當地告訴我們答案以外，也能夠使用一系列 `is.向量類型()` 函數判斷輸入的向量是否為某個指定的向量類型。除了判斷日期向量與日期時間向量要使用的是 `inherits()` 函數，其他都可以使用 `is.向量類型()` 系列函數判斷。\n",
    "\n",
    "- `is.numeric()`：判斷是否為數值向量。\n",
    "- `is.integer()`：判斷是否為整數向量。\n",
    "- `is.character()`：判斷是否為文字向量。\n",
    "- `is.logical()`：判斷是否為邏輯向量。\n",
    "- `inherits(x, what = \"Date\")`：判斷是否為日期向量。\n",
    "- `inherits(x, what = \"POSIXct\")`：判斷是否為日期時間向量。\n",
    "- `is.na()`：判斷是否為遺漏值向量。\n",
    "- `is.null()`：判斷是否為空值向量。\n",
    "- `is.nan()`：判斷是否為非數值向量。\n",
    "- `is.infinite()`：判斷是否為無限大數值向量。"
   ]
  },
  {
   "cell_type": "code",
   "execution_count": 2,
   "id": "38e26ccf",
   "metadata": {},
   "outputs": [
    {
     "name": "stdout",
     "output_type": "stream",
     "text": [
      "[1] TRUE\n",
      "[1] FALSE\n"
     ]
    }
   ],
   "source": [
    "# is.numeric()\n",
    "print(is.numeric(7))\n",
    "print(is.numeric(\"7\"))"
   ]
  },
  {
   "cell_type": "code",
   "execution_count": 3,
   "id": "59cb33ff",
   "metadata": {},
   "outputs": [
    {
     "name": "stdout",
     "output_type": "stream",
     "text": [
      "[1] TRUE\n",
      "[1] FALSE\n"
     ]
    }
   ],
   "source": [
    "# is.integer()\n",
    "print(is.integer(7L))\n",
    "print(is.integer(7))"
   ]
  },
  {
   "cell_type": "code",
   "execution_count": 4,
   "id": "6589ca6f",
   "metadata": {},
   "outputs": [
    {
     "name": "stdout",
     "output_type": "stream",
     "text": [
      "[1] TRUE\n",
      "[1] FALSE\n"
     ]
    }
   ],
   "source": [
    "# is.character()\n",
    "print(is.character(\"FALSE\"))\n",
    "print(is.character(FALSE))"
   ]
  },
  {
   "cell_type": "code",
   "execution_count": 5,
   "id": "824e2279",
   "metadata": {},
   "outputs": [
    {
     "name": "stdout",
     "output_type": "stream",
     "text": [
      "[1] TRUE\n",
      "[1] FALSE\n"
     ]
    }
   ],
   "source": [
    "# is.logical()\n",
    "print(is.logical(FALSE))\n",
    "print(is.logical(\"FALSE\"))"
   ]
  },
  {
   "cell_type": "code",
   "execution_count": 6,
   "id": "1ceebf03",
   "metadata": {},
   "outputs": [
    {
     "name": "stdout",
     "output_type": "stream",
     "text": [
      "[1] TRUE\n",
      "[1] FALSE\n",
      "[1] TRUE\n",
      "[1] FALSE\n"
     ]
    }
   ],
   "source": [
    "# inherits()\n",
    "sys_date <- Sys.Date()\n",
    "sys_time <- Sys.time()\n",
    "print(inherits(sys_date, what = \"Date\"))\n",
    "print(inherits(\"1970-01-01\", what = \"Date\"))\n",
    "print(inherits(sys_time, what = \"POSIXct\"))\n",
    "print(inherits(\"1970-01-01 00:00:00\", what = \"POSIXct\"))"
   ]
  },
  {
   "cell_type": "code",
   "execution_count": 7,
   "id": "94ac53a2",
   "metadata": {},
   "outputs": [
    {
     "name": "stdout",
     "output_type": "stream",
     "text": [
      "[1] TRUE\n",
      "[1] FALSE\n"
     ]
    }
   ],
   "source": [
    "# is.na()\n",
    "print(is.na(NA))\n",
    "print(is.na(\"NA\"))"
   ]
  },
  {
   "cell_type": "code",
   "execution_count": 8,
   "id": "0dd8e56a",
   "metadata": {},
   "outputs": [
    {
     "name": "stdout",
     "output_type": "stream",
     "text": [
      "[1] TRUE\n",
      "[1] FALSE\n"
     ]
    }
   ],
   "source": [
    "# is.null()\n",
    "print(is.null(NULL))\n",
    "print(is.null(\"NULL\"))"
   ]
  },
  {
   "cell_type": "code",
   "execution_count": 9,
   "id": "1373aedf",
   "metadata": {},
   "outputs": [
    {
     "name": "stdout",
     "output_type": "stream",
     "text": [
      "[1] TRUE\n",
      "[1] FALSE\n"
     ]
    }
   ],
   "source": [
    "# is.nan()\n",
    "print(is.nan(NaN))\n",
    "print(is.nan(\"NaN\"))"
   ]
  },
  {
   "cell_type": "code",
   "execution_count": 10,
   "id": "86744868",
   "metadata": {},
   "outputs": [
    {
     "name": "stdout",
     "output_type": "stream",
     "text": [
      "[1] TRUE\n",
      "[1] FALSE\n"
     ]
    }
   ],
   "source": [
    "# is.infinite()\n",
    "print(is.infinite(Inf))\n",
    "print(is.infinite(\"Inf\"))"
   ]
  },
  {
   "cell_type": "markdown",
   "id": "7742c027",
   "metadata": {},
   "source": [
    "## 向量可以轉換類型\n",
    "\n",
    "R 語言針對向量類型的轉換夠使用一系列 `as.向量類型()` 函數轉換輸入的向量為某個指定的向量類型。\n",
    "\n",
    "- `as.numeric()`：轉換為數值向量。\n",
    "- `as.integer()`：轉換為整數向量。\n",
    "- `as.character()`：轉換為文字向量。\n",
    "- `as.logical()`：轉換為邏輯向量。\n",
    "- `as.Date()`：轉換為日期向量。\n",
    "- `as.POSIXct()`：轉換為日期時間向量。\n",
    "- `as.na()`：轉換為遺漏值向量。\n",
    "- `as.null()`：轉換為空值向量。\n",
    "- `as.nan()`：轉換為非數值向量。\n",
    "- `as.infinite()`：轉換為無限大數值向量。\n",
    "\n",
    "使用 `as.numeric()` 函數轉換輸入為數值向量，輸入整數向量、邏輯向量、日期向量或日期時間向量都能順利轉換。"
   ]
  },
  {
   "cell_type": "code",
   "execution_count": 11,
   "id": "cfe2e5f1",
   "metadata": {},
   "outputs": [
    {
     "name": "stdout",
     "output_type": "stream",
     "text": [
      "[1] 7\n",
      "[1] 0\n",
      "[1] 1\n",
      "[1] 19071\n",
      "[1] 1647756315\n"
     ]
    }
   ],
   "source": [
    "# as.numeric()\n",
    "print(as.numeric(7L))\n",
    "print(as.numeric(FALSE))\n",
    "print(as.numeric(TRUE))\n",
    "print(as.numeric(sys_date))\n",
    "print(as.numeric(sys_time))"
   ]
  },
  {
   "cell_type": "markdown",
   "id": "f502ffd9",
   "metadata": {},
   "source": [
    "使用 `as.integer()` 函數轉換輸入為整數向量，輸入沒有小數位數（或小數位數為零）的數值向量、邏輯值向量、日期向量或日期時間向量都能順利轉換。"
   ]
  },
  {
   "cell_type": "code",
   "execution_count": 12,
   "id": "8baaa4d0",
   "metadata": {},
   "outputs": [
    {
     "name": "stdout",
     "output_type": "stream",
     "text": [
      "[1] 7\n",
      "[1] 0\n",
      "[1] 1\n",
      "[1] 19071\n",
      "[1] 1647756314\n"
     ]
    }
   ],
   "source": [
    "# as.integer()\n",
    "print(as.integer(7.00))\n",
    "print(as.integer(FALSE))\n",
    "print(as.integer(TRUE))\n",
    "print(as.integer(sys_date))\n",
    "print(as.integer(sys_time))"
   ]
  },
  {
   "cell_type": "markdown",
   "id": "cb47d0a8",
   "metadata": {},
   "source": [
    "使用 `as.logical()` 函數轉換輸入為邏輯向量，輸入數值或整數類型的 0 會轉換成為 `FALSE`，其他則一律轉換為 `TRUE`。輸入文字向量的 `\"FALSE\"`、 `\"False\"` 或 `\"false\"` 會轉換為 `FALSE`，反之輸入文字向量的 `\"TRUE\"`、`\"True\"` 或 `\"true\"` 會轉換為 `TRUE`。"
   ]
  },
  {
   "cell_type": "code",
   "execution_count": 13,
   "id": "2a4af18a",
   "metadata": {},
   "outputs": [
    {
     "name": "stdout",
     "output_type": "stream",
     "text": [
      "[1] FALSE\n",
      "[1] FALSE\n",
      "[1] TRUE\n",
      "[1] TRUE\n",
      "[1] TRUE\n",
      "[1] TRUE\n"
     ]
    }
   ],
   "source": [
    "# as.logical()\n",
    "print(as.logical(0))\n",
    "print(as.logical(0L))\n",
    "print(as.logical(1))\n",
    "print(as.logical(1L))\n",
    "print(as.logical(sys_date))\n",
    "print(as.logical(sys_time))"
   ]
  },
  {
   "cell_type": "markdown",
   "id": "5762dd07",
   "metadata": {},
   "source": [
    "使用 `as.character()` 函數轉換輸入為文字向量，輸入任意向量類型都能順利轉換。"
   ]
  },
  {
   "cell_type": "code",
   "execution_count": 14,
   "id": "3f3599bd",
   "metadata": {},
   "outputs": [
    {
     "name": "stdout",
     "output_type": "stream",
     "text": [
      "[1] \"7\"\n",
      "[1] \"7\"\n",
      "[1] \"FALSE\"\n",
      "[1] \"TRUE\"\n",
      "[1] \"2022-03-20\"\n",
      "[1] \"2022-03-20 14:05:14\"\n"
     ]
    }
   ],
   "source": [
    "# as.character()\n",
    "print(as.character(7))\n",
    "print(as.character(7L))\n",
    "print(as.character(FALSE))\n",
    "print(as.character(TRUE))\n",
    "print(as.character(sys_date))\n",
    "print(as.character(sys_time))"
   ]
  },
  {
   "cell_type": "markdown",
   "id": "f1df3008",
   "metadata": {},
   "source": [
    "使用 `as.Date()` 函數轉換輸入為日期向量，我們可以輸入文字向量讓 R 語言轉換成日期向量。\n",
    "\n",
    "使用 `as.POSIXct()` 函數轉換輸入為日期時間向量，我們可以輸入文字向量讓 R 語言轉換成日期時間向量，如果沒有指定參數 `tz` 會預設使用電腦的時區。\n",
    "\n",
    "R 語言預設可以識別 `%Y-%m-%d %H:%M:%S` 或 `%Y/%m/%d %H:%M:%S` 這兩種日期時間的文字格式，如果是其他格式，必須要加入 `format` 參數告知被記錄的日期時間格式為何，函數才能順利轉換。常用的文字對應日期、日期時間格式有：\n",
    "\n",
    "- `%a`：縮寫的星期幾，從 Sun 至 Sat。\n",
    "- `%A`：全稱的星期幾，從 Sunday 至 Saturday。\n",
    "- `%b`：縮寫的月份，從 Jan 至 Dec。\n",
    "- `%B`：全稱的月份，從 January 至 December。\n",
    "- `%d`：月份中的第幾天，從 01 至 31。\n",
    "- `%m`：以兩位數字表示的月份，從 01 至 12。\n",
    "- `%Y`：以四位數字表示的西元年份，從 0 至 9999。\n",
    "- `%H`：以兩位數字表示的小時，從 00 至 23。\n",
    "- `%M`：以兩位數字表示的分鐘，從 00 至 59。\n",
    "- `%S`：以兩位數字表示的秒數，從 00 至 59。"
   ]
  },
  {
   "cell_type": "code",
   "execution_count": 15,
   "id": "5c23bc51",
   "metadata": {},
   "outputs": [
    {
     "name": "stdout",
     "output_type": "stream",
     "text": [
      "[1] \"1970-01-01\"\n",
      "[1] \"1970-01-01\"\n",
      "[1] \"1970-01-01\"\n",
      "[1] \"1970-01-01\"\n"
     ]
    }
   ],
   "source": [
    "# as.Date()\n",
    "print(as.Date(\"1970-01-01\"))\n",
    "print(as.Date(\"1970/01/01\"))\n",
    "print(as.Date(\"01-01-1970\", format = \"%m-%d-%Y\"))\n",
    "print(as.Date(\"01/01/70\", format = \"%m/%d/%y\"))"
   ]
  },
  {
   "cell_type": "code",
   "execution_count": 16,
   "id": "b82aa853",
   "metadata": {},
   "outputs": [
    {
     "name": "stdout",
     "output_type": "stream",
     "text": [
      "[1] \"1970-01-01 CST\"\n",
      "[1] \"1970-01-01 CST\"\n",
      "[1] \"1970-01-01 GMT\"\n"
     ]
    }
   ],
   "source": [
    "# as.POSIXct()\n",
    "print(as.POSIXct(\"1970-01-01 00:00:00\"))\n",
    "print(as.POSIXct(\"01-01-1970 00:00:00\", format = \"%m-%d-%Y %H:%M:%S\"))\n",
    "print(as.POSIXct(\"1970-01-01 00:00:00\", tz = \"GMT\"))"
   ]
  },
  {
   "cell_type": "markdown",
   "id": "5c813c74",
   "metadata": {},
   "source": [
    "## 向量元素的讀取\n",
    "\n",
    "對於長度超過 1 的向量我能夠使用三種技巧讀取其中的元素：\n",
    "\n",
    "1. 索引（Indexing）。\n",
    "2. 切割（Slicing）。\n",
    "3. 邏輯篩選（Logical filtering）。\n",
    "\n",
    "向量像是有格子的抽屜，每個格子上面都有一個索引值，方便 R 語言搜尋放在裡頭的資料，這個索引值從左邊由 1 起始計算。"
   ]
  },
  {
   "cell_type": "code",
   "execution_count": 17,
   "id": "479059b9",
   "metadata": {},
   "outputs": [
    {
     "name": "stdout",
     "output_type": "stream",
     "text": [
      "[1] \"spring\"\n",
      "[1] \"summer\"\n",
      "[1] \"autumn\"\n",
      "[1] \"winter\"\n"
     ]
    }
   ],
   "source": [
    "# Indexing\n",
    "four_seasons <- c(\"spring\", \"summer\", \"autumn\", \"winter\")\n",
    "print(four_seasons[1])\n",
    "print(four_seasons[2])\n",
    "print(four_seasons[3])\n",
    "print(four_seasons[4])"
   ]
  },
  {
   "cell_type": "markdown",
   "id": "fdd287f3",
   "metadata": {},
   "source": [
    "當索引值是以 `start:stop` 建立的數值間距為 1 數值向量時，這樣的技巧就稱為切割（Slicing），意即取出一個向量中的某片段。"
   ]
  },
  {
   "cell_type": "code",
   "execution_count": 18,
   "id": "b798b489",
   "metadata": {},
   "outputs": [
    {
     "name": "stdout",
     "output_type": "stream",
     "text": [
      "[1] \"spring\" \"summer\" \"autumn\"\n",
      "[1] \"summer\" \"autumn\" \"winter\"\n"
     ]
    }
   ],
   "source": [
    "# Slicing\n",
    "print(four_seasons[1:3])\n",
    "print(four_seasons[2:4])"
   ]
  },
  {
   "cell_type": "markdown",
   "id": "29dffdde",
   "metadata": {},
   "source": [
    "切割也能用 `c()` 函數結合多個索引值傳入，也可以接受負的索引值，表示採用負面表列方式讀取其中的元素。"
   ]
  },
  {
   "cell_type": "code",
   "execution_count": 19,
   "id": "72f281e0",
   "metadata": {},
   "outputs": [
    {
     "name": "stdout",
     "output_type": "stream",
     "text": [
      "[1] \"spring\" \"autumn\"\n",
      "[1] \"summer\" \"winter\"\n",
      "[1] \"spring\" \"autumn\"\n",
      "[1] \"summer\" \"winter\"\n"
     ]
    }
   ],
   "source": [
    "# Slicing\n",
    "print(four_seasons[c(1, 3)])\n",
    "print(four_seasons[c(2, 4)])\n",
    "print(four_seasons[c(-2, -4)])\n",
    "print(four_seasons[c(-1, -3)])"
   ]
  },
  {
   "cell_type": "markdown",
   "id": "2b0e5909",
   "metadata": {},
   "source": [
    "除了使用索引或切割的技巧，亦可以對向量應用條件敘述（Conditional statement），進而產生邏輯向量作為對原向量篩選的依據，會保留判斷為 `TRUE` 位置的元素。"
   ]
  },
  {
   "cell_type": "code",
   "execution_count": 20,
   "id": "c3d26319",
   "metadata": {},
   "outputs": [
    {
     "name": "stdout",
     "output_type": "stream",
     "text": [
      "[1] FALSE FALSE FALSE  TRUE\n",
      "[1] \"winter\"\n"
     ]
    }
   ],
   "source": [
    "# Logical filtering\n",
    "favorite_season <- four_seasons == \"winter\"\n",
    "print(favorite_season)\n",
    "print(four_seasons[favorite_season])"
   ]
  },
  {
   "cell_type": "markdown",
   "id": "74d2d1b7",
   "metadata": {},
   "source": [
    "## 向量元素的更新和刪除\n",
    "\n",
    "透過索引（Indexing）與 `<-` 來更新和刪除向量中的元素，將元素指定為新的資料或者指定為 `NULL`。"
   ]
  },
  {
   "cell_type": "code",
   "execution_count": 21,
   "id": "4ea84efe",
   "metadata": {},
   "outputs": [
    {
     "name": "stdout",
     "output_type": "stream",
     "text": [
      "[1] \"spring\" \"summer\" \"fall\"   \"winter\"\n"
     ]
    }
   ],
   "source": [
    "# Update\n",
    "four_seasons[3] <- \"fall\"\n",
    "print(four_seasons)"
   ]
  },
  {
   "cell_type": "code",
   "execution_count": 22,
   "id": "6bf46f12",
   "metadata": {},
   "outputs": [
    {
     "name": "stdout",
     "output_type": "stream",
     "text": [
      "[1] \"spring\" \"summer\" \"winter\"\n"
     ]
    }
   ],
   "source": [
    "# Delete\n",
    "three_seasons <- four_seasons[-3]\n",
    "print(three_seasons)"
   ]
  },
  {
   "cell_type": "markdown",
   "id": "4525bbb3",
   "metadata": {},
   "source": [
    "在初步暸解如何在 R 語言操作基本資料單位「向量」之後，約維安計畫：操作基本資料單位「向量」來到尾聲，希望您也和我一樣期待下一篇文章。\n",
    "\n",
    "## 延伸閱讀\n",
    "\n",
    "1. <https://www.rdocumentation.org/packages/base/versions/3.6.2/topics/strptime>\n",
    "2. <https://r4ds.had.co.nz/vectors.html>\n",
    "3. <https://adv-r.hadley.nz/vectors-chap.html>\n",
    "\n",
    "對於這篇文章有什麼想法呢？喜歡😻、留言🙋‍♂️或者分享🙌"
   ]
  }
 ],
 "metadata": {
  "kernelspec": {
   "display_name": "R",
   "language": "R",
   "name": "ir"
  },
  "language_info": {
   "codemirror_mode": "r",
   "file_extension": ".r",
   "mimetype": "text/x-r-source",
   "name": "R",
   "pygments_lexer": "r",
   "version": "4.1.2"
  }
 },
 "nbformat": 4,
 "nbformat_minor": 5
}
